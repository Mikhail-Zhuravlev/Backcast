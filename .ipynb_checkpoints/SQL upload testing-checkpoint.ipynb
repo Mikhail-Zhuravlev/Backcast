{
 "cells": [
  {
   "cell_type": "code",
   "execution_count": 14,
   "id": "b29f7479",
   "metadata": {},
   "outputs": [],
   "source": [
    "import pandas as pd\n",
    "import numpy as np\n",
    "import pyodbc\n",
    "\n",
    "\n"
   ]
  },
  {
   "cell_type": "code",
   "execution_count": 4,
   "id": "83b71022",
   "metadata": {},
   "outputs": [
    {
     "ename": "SyntaxError",
     "evalue": "invalid syntax (Temp/ipykernel_22496/307373955.py, line 12)",
     "output_type": "error",
     "traceback": [
      "\u001b[1;36m  File \u001b[1;32m\"C:\\Users\\MZHURA~1\\AppData\\Local\\Temp/ipykernel_22496/307373955.py\"\u001b[1;36m, line \u001b[1;32m12\u001b[0m\n\u001b[1;33m    cursor.execute(deleteStr pd.read_sql_query(queryStr, self.conn)\u001b[0m\n\u001b[1;37m                             ^\u001b[0m\n\u001b[1;31mSyntaxError\u001b[0m\u001b[1;31m:\u001b[0m invalid syntax\n"
     ]
    }
   ],
   "source": [
    "def writeToPRISM(self, deleteStr, insertStr, database, server = 'DC01DAPP01'):\n",
    "\n",
    "    self.conn = pyodbc.connect(\n",
    "        'Driver={SQL Server Native Client 11.0};'\n",
    "        'Server=' + server +';'\n",
    "        'Database=' + database + ';'\n",
    "        'Uid=appuser;pwd=Pm280947%;'\n",
    "        )\n",
    "    \n"
   ]
  },
  {
   "cell_type": "code",
   "execution_count": 30,
   "id": "bef4c816",
   "metadata": {},
   "outputs": [],
   "source": [
    "server = 'DC01DAPP01'\n",
    "database = 'TPT'\n",
    "conn = pyodbc.connect(\n",
    "    'Driver={SQL Server Native Client 11.0};'\n",
    "    'Server=' + server +';'\n",
    "    'Database=' + database + ';'\n",
    "    'Uid=PrismExec;pwd=Pri$m2018%;'\n",
    "    )\n",
    "#'Uid=appuser;pwd=Pm280947%;'\n",
    "inputs = ('2022-08-01',1,2,3,4,5,6,7,8), ('2022-08-02',1,2,3,4,5,6,7,8)\n",
    "\n",
    "df = pd.DataFrame(data = inputs, columns=('SETTLEMENT_DATE','FUEL_COST','START_COST','VOM','REVENUE','MARGIN','EXERCISE_HOURS','PREMIUM','NET_SETTLEMENT'))\n",
    "\n",
    "inputString = ','.join([\"('%s',%i,%i,%i,%i,%i,%i,%i,%i)\" % row for row in df.itertuples(index=False)])\n",
    "\n",
    "inputStr = \"\"\"INSERT INTO [TPT].[dbo].[ELGIN_HRCO_SETTLED_INFO] ([SETTLEMENT_DATE],[FUEL_COST],[START_COST],[VOM],[REVENUE],[MARGIN],[EXERCISE_HOURS],[PREMIUM],[NET_SETTLEMENT]) \n",
    "            VALUES \"\"\" + inputString#('2022-07-01',1,2,3,4,5,6,7,8), ('2022-07-02',1,2,3,4,5,6,7,8)\"\"\"\n",
    "\n",
    "\n",
    "dt='2022-08-01'\n",
    "fuel=1\n",
    "strt=2\n",
    "vom=3\n",
    "rev=4\n",
    "mrgn=5\n",
    "hrs=6\n",
    "prm=7\n",
    "net=8\n",
    "\n",
    "\n",
    "\n",
    "inputStr2 = \"\"\"exec dbo.InsertElginHRCOSettlementDetails @dt=?,@fuel=?,@strt=?,@vom=?,@rev=?,@mrgn=?,@hrs=?,@prm=?,@net=?;\"\"\"\n",
    "\n"
   ]
  },
  {
   "cell_type": "code",
   "execution_count": 33,
   "id": "5ff3436e",
   "metadata": {},
   "outputs": [
    {
     "name": "stdout",
     "output_type": "stream",
     "text": [
      "('2022-08-01', 1, 2, 3, 4, 5, 6, 7, 8)\n",
      "('2022-08-02', 1, 2, 3, 4, 5, 6, 7, 8)\n"
     ]
    }
   ],
   "source": [
    "for i in inputs:\n",
    "    print(i)"
   ]
  },
  {
   "cell_type": "code",
   "execution_count": 43,
   "id": "9e2c886d",
   "metadata": {},
   "outputs": [],
   "source": [
    "cursor = conn.cursor()\n",
    "\n",
    "for i in df.itertuples():\n",
    "    \n",
    "    values = i[1:]\n",
    "    \n",
    "    cursor.execute(inputStr2, values)\n",
    "    \n",
    "    conn.commit()\n",
    "\n",
    "cursor.close()"
   ]
  },
  {
   "cell_type": "code",
   "execution_count": 13,
   "id": "d168114b",
   "metadata": {},
   "outputs": [],
   "source": [
    "df"
   ]
  },
  {
   "cell_type": "code",
   "execution_count": 42,
   "id": "178b02ce",
   "metadata": {},
   "outputs": [
    {
     "name": "stdout",
     "output_type": "stream",
     "text": [
      "('2022-08-01', 1, 2, 3, 4, 5, 6, 7, 8)\n",
      "('2022-08-02', 1, 2, 3, 4, 5, 6, 7, 8)\n"
     ]
    }
   ],
   "source": [
    "for iRow in df.itertuples():\n",
    "    print(iRow[1:])\n"
   ]
  },
  {
   "cell_type": "code",
   "execution_count": 92,
   "id": "686f9fa0",
   "metadata": {},
   "outputs": [
    {
     "ename": "AttributeError",
     "evalue": "'DataFrame' object has no attribute 'split'",
     "output_type": "error",
     "traceback": [
      "\u001b[1;31m---------------------------------------------------------------------------\u001b[0m",
      "\u001b[1;31mAttributeError\u001b[0m                            Traceback (most recent call last)",
      "\u001b[1;32mC:\\Users\\MZHURA~1\\AppData\\Local\\Temp/ipykernel_22496/1992683395.py\u001b[0m in \u001b[0;36m<module>\u001b[1;34m\u001b[0m\n\u001b[1;32m----> 1\u001b[1;33m \u001b[0mx\u001b[0m \u001b[1;33m=\u001b[0m \u001b[0mdf\u001b[0m\u001b[1;33m.\u001b[0m\u001b[0msplit\u001b[0m\u001b[1;33m\u001b[0m\u001b[1;33m\u001b[0m\u001b[0m\n\u001b[0m\u001b[0;32m      2\u001b[0m \u001b[0mx\u001b[0m\u001b[1;33m\u001b[0m\u001b[1;33m\u001b[0m\u001b[0m\n",
      "\u001b[1;32m~\\Anaconda3\\lib\\site-packages\\pandas\\core\\generic.py\u001b[0m in \u001b[0;36m__getattr__\u001b[1;34m(self, name)\u001b[0m\n\u001b[0;32m   5485\u001b[0m         ):\n\u001b[0;32m   5486\u001b[0m             \u001b[1;32mreturn\u001b[0m \u001b[0mself\u001b[0m\u001b[1;33m[\u001b[0m\u001b[0mname\u001b[0m\u001b[1;33m]\u001b[0m\u001b[1;33m\u001b[0m\u001b[1;33m\u001b[0m\u001b[0m\n\u001b[1;32m-> 5487\u001b[1;33m         \u001b[1;32mreturn\u001b[0m \u001b[0mobject\u001b[0m\u001b[1;33m.\u001b[0m\u001b[0m__getattribute__\u001b[0m\u001b[1;33m(\u001b[0m\u001b[0mself\u001b[0m\u001b[1;33m,\u001b[0m \u001b[0mname\u001b[0m\u001b[1;33m)\u001b[0m\u001b[1;33m\u001b[0m\u001b[1;33m\u001b[0m\u001b[0m\n\u001b[0m\u001b[0;32m   5488\u001b[0m \u001b[1;33m\u001b[0m\u001b[0m\n\u001b[0;32m   5489\u001b[0m     \u001b[1;32mdef\u001b[0m \u001b[0m__setattr__\u001b[0m\u001b[1;33m(\u001b[0m\u001b[0mself\u001b[0m\u001b[1;33m,\u001b[0m \u001b[0mname\u001b[0m\u001b[1;33m:\u001b[0m \u001b[0mstr\u001b[0m\u001b[1;33m,\u001b[0m \u001b[0mvalue\u001b[0m\u001b[1;33m)\u001b[0m \u001b[1;33m->\u001b[0m \u001b[1;32mNone\u001b[0m\u001b[1;33m:\u001b[0m\u001b[1;33m\u001b[0m\u001b[1;33m\u001b[0m\u001b[0m\n",
      "\u001b[1;31mAttributeError\u001b[0m: 'DataFrame' object has no attribute 'split'"
     ]
    }
   ],
   "source": [
    "x = df.to_string(header=False,\n",
    "                  index=False,\n",
    "                  index_names=False).split('\\n')\n",
    "vals = [','.join(ele.split()) for ele in x]\n",
    "print(vals)"
   ]
  },
  {
   "cell_type": "code",
   "execution_count": 26,
   "id": "f1b38308",
   "metadata": {},
   "outputs": [
    {
     "data": {
      "text/plain": [
       "['(2022-08-01,1,2,3,4,5,6,7,8)', '(2022-08-02,1,2,3,4,5,6,7,8)']"
      ]
     },
     "execution_count": 26,
     "metadata": {},
     "output_type": "execute_result"
    }
   ],
   "source": [
    "str1 = df.to_string(header=False, index=False, index_names=False).split('\\n')\n",
    "                  \n",
    "str2 = ['('+','.join(ele.split())+')' for ele in str1]\n",
    "\n",
    "str2"
   ]
  },
  {
   "cell_type": "code",
   "execution_count": 126,
   "id": "9743e440",
   "metadata": {},
   "outputs": [
    {
     "ename": "TypeError",
     "evalue": "'str' object is not callable",
     "output_type": "error",
     "traceback": [
      "\u001b[1;31m---------------------------------------------------------------------------\u001b[0m",
      "\u001b[1;31mTypeError\u001b[0m                                 Traceback (most recent call last)",
      "\u001b[1;32mC:\\Users\\MZHURA~1\\AppData\\Local\\Temp/ipykernel_22496/4074387471.py\u001b[0m in \u001b[0;36m<module>\u001b[1;34m\u001b[0m\n\u001b[0;32m      3\u001b[0m     \u001b[0minputString\u001b[0m \u001b[1;33m=\u001b[0m \u001b[0minputString\u001b[0m \u001b[1;33m+\u001b[0m \u001b[1;34m'('\u001b[0m\u001b[1;33m\u001b[0m\u001b[1;33m\u001b[0m\u001b[0m\n\u001b[0;32m      4\u001b[0m     \u001b[1;32mfor\u001b[0m \u001b[0mitem\u001b[0m \u001b[1;32min\u001b[0m \u001b[0mrow\u001b[0m\u001b[1;33m:\u001b[0m\u001b[1;33m\u001b[0m\u001b[1;33m\u001b[0m\u001b[0m\n\u001b[1;32m----> 5\u001b[1;33m         \u001b[0minputString\u001b[0m \u001b[1;33m=\u001b[0m \u001b[0minputString\u001b[0m \u001b[1;33m+\u001b[0m \u001b[0mstr\u001b[0m\u001b[1;33m(\u001b[0m\u001b[0mitem\u001b[0m\u001b[1;33m)\u001b[0m\u001b[1;33m+\u001b[0m \u001b[1;34m','\u001b[0m\u001b[1;33m\u001b[0m\u001b[1;33m\u001b[0m\u001b[0m\n\u001b[0m\u001b[0;32m      6\u001b[0m         \u001b[0mprint\u001b[0m\u001b[1;33m(\u001b[0m\u001b[0minputString\u001b[0m\u001b[1;33m)\u001b[0m\u001b[1;33m\u001b[0m\u001b[1;33m\u001b[0m\u001b[0m\n\u001b[0;32m      7\u001b[0m     \u001b[0minputString\u001b[0m \u001b[1;33m=\u001b[0m \u001b[0minputString\u001b[0m \u001b[1;33m+\u001b[0m \u001b[1;34m')'\u001b[0m\u001b[1;33m\u001b[0m\u001b[1;33m\u001b[0m\u001b[0m\n",
      "\u001b[1;31mTypeError\u001b[0m: 'str' object is not callable"
     ]
    }
   ],
   "source": [
    "inputString = ''\n",
    "for row in df.itertuples(index=False):\n",
    "    inputString = inputString + '('\n",
    "    for item in row:\n",
    "        inputString = inputString + str(item)+ ','\n",
    "        print(inputString)\n",
    "    inputString = inputString + ')'\n",
    "    "
   ]
  },
  {
   "cell_type": "code",
   "execution_count": 143,
   "id": "28c22fed",
   "metadata": {},
   "outputs": [
    {
     "name": "stdout",
     "output_type": "stream",
     "text": [
      "('2022-07-01',1,2,3,4,5,6,7,8,)\n",
      "('2022-07-02',1,2,3,4,5,6,7,8,)\n"
     ]
    }
   ],
   "source": [
    "for row in df.itertuples(index=False):\n",
    "    \n",
    "    print(\"('%s',%i,%i,%i,%i,%i,%i,%i,%i)\" % row)\n",
    "\n"
   ]
  },
  {
   "cell_type": "code",
   "execution_count": 4,
   "id": "d3931a4f",
   "metadata": {},
   "outputs": [
    {
     "ename": "NameError",
     "evalue": "name 'df' is not defined",
     "output_type": "error",
     "traceback": [
      "\u001b[1;31m---------------------------------------------------------------------------\u001b[0m",
      "\u001b[1;31mNameError\u001b[0m                                 Traceback (most recent call last)",
      "\u001b[1;32mC:\\Users\\MZHURA~1\\AppData\\Local\\Temp/ipykernel_2612/1647452689.py\u001b[0m in \u001b[0;36m<module>\u001b[1;34m\u001b[0m\n\u001b[1;32m----> 1\u001b[1;33m \u001b[0minputString\u001b[0m \u001b[1;33m=\u001b[0m \u001b[1;34m','\u001b[0m\u001b[1;33m.\u001b[0m\u001b[0mjoin\u001b[0m\u001b[1;33m(\u001b[0m\u001b[1;33m[\u001b[0m\u001b[1;34m\"('%s',%i,%i,%i,%i,%i,%i,%i,%i)\"\u001b[0m \u001b[1;33m%\u001b[0m \u001b[0mrow\u001b[0m \u001b[1;32mfor\u001b[0m \u001b[0mrow\u001b[0m \u001b[1;32min\u001b[0m \u001b[0mdf\u001b[0m\u001b[1;33m.\u001b[0m\u001b[0mitertuples\u001b[0m\u001b[1;33m(\u001b[0m\u001b[0mindex\u001b[0m\u001b[1;33m=\u001b[0m\u001b[1;32mFalse\u001b[0m\u001b[1;33m)\u001b[0m\u001b[1;33m]\u001b[0m\u001b[1;33m)\u001b[0m\u001b[1;33m\u001b[0m\u001b[1;33m\u001b[0m\u001b[0m\n\u001b[0m",
      "\u001b[1;31mNameError\u001b[0m: name 'df' is not defined"
     ]
    }
   ],
   "source": [
    "\n"
   ]
  },
  {
   "cell_type": "code",
   "execution_count": 149,
   "id": "3151d248",
   "metadata": {},
   "outputs": [
    {
     "data": {
      "text/plain": [
       "\"('2022-07-01',1,2,3,4,5,6,7,8),('2022-07-02',1,2,3,4,5,6,7,8)\""
      ]
     },
     "execution_count": 149,
     "metadata": {},
     "output_type": "execute_result"
    }
   ],
   "source": [
    "inputString"
   ]
  },
  {
   "cell_type": "code",
   "execution_count": 27,
   "id": "9932723d",
   "metadata": {},
   "outputs": [
    {
     "name": "stdout",
     "output_type": "stream",
     "text": [
      "(\n",
      "'\n",
      "2\n",
      "0\n",
      "2\n",
      "2\n",
      "-\n",
      "0\n",
      "8\n",
      "-\n",
      "0\n",
      "1\n",
      "'\n",
      ",\n",
      "1\n",
      ",\n",
      "2\n",
      ",\n",
      "3\n",
      ",\n",
      "4\n",
      ",\n",
      "5\n",
      ",\n",
      "6\n",
      ",\n",
      "7\n",
      ",\n",
      "8\n",
      ")\n",
      ",\n",
      "(\n",
      "'\n",
      "2\n",
      "0\n",
      "2\n",
      "2\n",
      "-\n",
      "0\n",
      "8\n",
      "-\n",
      "0\n",
      "2\n",
      "'\n",
      ",\n",
      "1\n",
      ",\n",
      "2\n",
      ",\n",
      "3\n",
      ",\n",
      "4\n",
      ",\n",
      "5\n",
      ",\n",
      "6\n",
      ",\n",
      "7\n",
      ",\n",
      "8\n",
      ")\n"
     ]
    }
   ],
   "source": [
    "for iString in inputString:\n",
    "    print(iString)"
   ]
  },
  {
   "cell_type": "code",
   "execution_count": null,
   "id": "f74df05e",
   "metadata": {},
   "outputs": [],
   "source": []
  }
 ],
 "metadata": {
  "kernelspec": {
   "display_name": "Python 3 (ipykernel)",
   "language": "python",
   "name": "python3"
  },
  "language_info": {
   "codemirror_mode": {
    "name": "ipython",
    "version": 3
   },
   "file_extension": ".py",
   "mimetype": "text/x-python",
   "name": "python",
   "nbconvert_exporter": "python",
   "pygments_lexer": "ipython3",
   "version": "3.9.7"
  }
 },
 "nbformat": 4,
 "nbformat_minor": 5
}
